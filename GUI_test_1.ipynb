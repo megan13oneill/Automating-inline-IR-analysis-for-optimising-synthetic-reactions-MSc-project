{
 "cells": [
  {
   "cell_type": "markdown",
   "id": "e03575cd",
   "metadata": {},
   "source": [
    "Attempt at making a GUI for user input "
   ]
  },
  {
   "cell_type": "code",
   "execution_count": 1,
   "id": "31ed6075",
   "metadata": {},
   "outputs": [
    {
     "name": "stdout",
     "output_type": "stream",
     "text": [
      "Requirement already satisfied: qtpy in /opt/anaconda3/lib/python3.12/site-packages (2.4.1)\n",
      "Collecting PySide6\n",
      "  Downloading PySide6-6.9.0-cp39-abi3-macosx_12_0_universal2.whl.metadata (5.5 kB)\n",
      "Requirement already satisfied: packaging in /opt/anaconda3/lib/python3.12/site-packages (from qtpy) (23.2)\n",
      "Collecting shiboken6==6.9.0 (from PySide6)\n",
      "  Downloading shiboken6-6.9.0-cp39-abi3-macosx_12_0_universal2.whl.metadata (2.7 kB)\n",
      "Collecting PySide6-Essentials==6.9.0 (from PySide6)\n",
      "  Downloading PySide6_Essentials-6.9.0-cp39-abi3-macosx_12_0_universal2.whl.metadata (3.9 kB)\n",
      "Collecting PySide6-Addons==6.9.0 (from PySide6)\n",
      "  Downloading PySide6_Addons-6.9.0-cp39-abi3-macosx_12_0_universal2.whl.metadata (4.2 kB)\n",
      "Downloading PySide6-6.9.0-cp39-abi3-macosx_12_0_universal2.whl (558 kB)\n",
      "\u001b[2K   \u001b[90m━━━━━━━━━━━━━━━━━━━━━━━━━━━━━━━━━━━━━━━\u001b[0m \u001b[32m558.0/558.0 kB\u001b[0m \u001b[31m914.4 kB/s\u001b[0m eta \u001b[36m0:00:00\u001b[0ma \u001b[36m0:00:01\u001b[0m\n",
      "\u001b[?25hDownloading PySide6_Addons-6.9.0-cp39-abi3-macosx_12_0_universal2.whl (315.6 MB)\n",
      "\u001b[2K   \u001b[90m━━━━━━━━━━━━━━━━━━━━━━━━━━━━━━━━━━━━━━━━\u001b[0m \u001b[32m315.6/315.6 MB\u001b[0m \u001b[31m6.0 MB/s\u001b[0m eta \u001b[36m0:00:00\u001b[0m:00:01\u001b[0m00:01\u001b[0m\n",
      "\u001b[?25hDownloading PySide6_Essentials-6.9.0-cp39-abi3-macosx_12_0_universal2.whl (132.0 MB)\n",
      "\u001b[2K   \u001b[90m━━━━━━━━━━━━━━━━━━━━━━━━━━━━━━━━━━━━━━━━\u001b[0m \u001b[32m132.0/132.0 MB\u001b[0m \u001b[31m12.3 MB/s\u001b[0m eta \u001b[36m0:00:00\u001b[0m00:01\u001b[0m00:01\u001b[0m\n",
      "\u001b[?25hDownloading shiboken6-6.9.0-cp39-abi3-macosx_12_0_universal2.whl (407 kB)\n",
      "\u001b[2K   \u001b[90m━━━━━━━━━━━━━━━━━━━━━━━━━━━━━━━━━━━━━━━━\u001b[0m \u001b[32m407.1/407.1 kB\u001b[0m \u001b[31m14.1 MB/s\u001b[0m eta \u001b[36m0:00:00\u001b[0m\n",
      "\u001b[?25hInstalling collected packages: shiboken6, PySide6-Essentials, PySide6-Addons, PySide6\n",
      "Successfully installed PySide6-6.9.0 PySide6-Addons-6.9.0 PySide6-Essentials-6.9.0 shiboken6-6.9.0\n",
      "Note: you may need to restart the kernel to use updated packages.\n"
     ]
    }
   ],
   "source": [
    "pip install qtpy PySide6"
   ]
  },
  {
   "cell_type": "code",
   "execution_count": 1,
   "id": "2d11a903",
   "metadata": {},
   "outputs": [
    {
     "name": "stdout",
     "output_type": "stream",
     "text": [
      "Collecting customtkinter\n",
      "  Downloading customtkinter-5.2.2-py3-none-any.whl.metadata (677 bytes)\n",
      "Collecting darkdetect (from customtkinter)\n",
      "  Downloading darkdetect-0.8.0-py3-none-any.whl.metadata (3.6 kB)\n",
      "Requirement already satisfied: packaging in /opt/anaconda3/lib/python3.12/site-packages (from customtkinter) (23.2)\n",
      "Downloading customtkinter-5.2.2-py3-none-any.whl (296 kB)\n",
      "\u001b[2K   \u001b[90m━━━━━━━━━━━━━━━━━━━━━━━━━━━━━━━━━━━━━━━━\u001b[0m \u001b[32m296.1/296.1 kB\u001b[0m \u001b[31m5.5 MB/s\u001b[0m eta \u001b[36m0:00:00\u001b[0ma \u001b[36m0:00:01\u001b[0m\n",
      "\u001b[?25hDownloading darkdetect-0.8.0-py3-none-any.whl (9.0 kB)\n",
      "Installing collected packages: darkdetect, customtkinter\n",
      "Successfully installed customtkinter-5.2.2 darkdetect-0.8.0\n",
      "Note: you may need to restart the kernel to use updated packages.\n"
     ]
    }
   ],
   "source": [
    "pip install customtkinter"
   ]
  },
  {
   "cell_type": "code",
   "execution_count": null,
   "id": "3e52a7e5",
   "metadata": {},
   "outputs": [
    {
     "ename": "",
     "evalue": "",
     "output_type": "error",
     "traceback": [
      "\u001b[1;31mThe Kernel crashed while executing code in the current cell or a previous cell. \n",
      "\u001b[1;31mPlease review the code in the cell(s) to identify a possible cause of the failure. \n",
      "\u001b[1;31mClick <a href='https://aka.ms/vscodeJupyterKernelCrash'>here</a> for more info. \n",
      "\u001b[1;31mView Jupyter <a href='command:jupyter.viewOutput'>log</a> for further details."
     ]
    }
   ],
   "source": [
    "import tkinter as tk\n",
    "\n",
    "# Create the app's main window\n",
    "window = tk.Tk()\n",
    "window.title(\"Hello, World!\")\n",
    "\n",
    "def handle_button_press():\n",
    "    window.destroy()\n",
    "\n",
    "button = tk.Button(text=\"My simple app.\", command=handle_button_press)\n",
    "button.pack()\n",
    "\n",
    "# Start the event loop\n",
    "window.mainloop()"
   ]
  },
  {
   "cell_type": "code",
   "execution_count": null,
   "id": "89021bff",
   "metadata": {},
   "outputs": [
    {
     "ename": "",
     "evalue": "",
     "output_type": "error",
     "traceback": [
      "\u001b[1;31mThe Kernel crashed while executing code in the current cell or a previous cell. \n",
      "\u001b[1;31mPlease review the code in the cell(s) to identify a possible cause of the failure. \n",
      "\u001b[1;31mClick <a href='https://aka.ms/vscodeJupyterKernelCrash'>here</a> for more info. \n",
      "\u001b[1;31mView Jupyter <a href='command:jupyter.viewOutput'>log</a> for further details."
     ]
    }
   ],
   "source": [
    "import tkinter as tk\n",
    "from tkinter import ttk\n",
    "\n",
    "# Create the app's main window\n",
    "window = tk.Tk()\n",
    "window.title(\"Hello, World!\")\n",
    "\n",
    "def handle_button_press():\n",
    "    window.destroy()\n",
    "\n",
    "button = ttk.Button(text=\"My simple app.\", command=handle_button_press)\n",
    "button.pack()\n",
    "\n",
    "# Start the event loop\n",
    "window.mainloop()"
   ]
  }
 ],
 "metadata": {
  "kernelspec": {
   "display_name": "base",
   "language": "python",
   "name": "python3"
  },
  "language_info": {
   "codemirror_mode": {
    "name": "ipython",
    "version": 3
   },
   "file_extension": ".py",
   "mimetype": "text/x-python",
   "name": "python",
   "nbconvert_exporter": "python",
   "pygments_lexer": "ipython3",
   "version": "3.12.2"
  }
 },
 "nbformat": 4,
 "nbformat_minor": 5
}
