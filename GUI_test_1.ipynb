{
 "cells": [
  {
   "cell_type": "markdown",
   "id": "e03575cd",
   "metadata": {},
   "source": [
    "Attempt at making a GUI for user input "
   ]
  },
  {
   "cell_type": "code",
   "execution_count": null,
   "id": "3e52a7e5",
   "metadata": {},
   "outputs": [
    {
     "ename": "",
     "evalue": "",
     "output_type": "error",
     "traceback": [
      "\u001b[1;31mThe Kernel crashed while executing code in the current cell or a previous cell. \n",
      "\u001b[1;31mPlease review the code in the cell(s) to identify a possible cause of the failure. \n",
      "\u001b[1;31mClick <a href='https://aka.ms/vscodeJupyterKernelCrash'>here</a> for more info. \n",
      "\u001b[1;31mView Jupyter <a href='command:jupyter.viewOutput'>log</a> for further details."
     ]
    }
   ],
   "source": [
    "import tkinter as tk\n",
    "\n",
    "# Create the app's main window\n",
    "window = tk.Tk()\n",
    "window.title(\"Hello, World!\")\n",
    "\n",
    "def handle_button_press():\n",
    "    window.destroy()\n",
    "\n",
    "button = tk.Button(text=\"My simple app.\", command=handle_button_press)\n",
    "button.pack()\n",
    "\n",
    "# Start the event loop\n",
    "window.mainloop()"
   ]
  },
  {
   "cell_type": "code",
   "execution_count": null,
   "id": "89021bff",
   "metadata": {},
   "outputs": [
    {
     "ename": "",
     "evalue": "",
     "output_type": "error",
     "traceback": [
      "\u001b[1;31mThe Kernel crashed while executing code in the current cell or a previous cell. \n",
      "\u001b[1;31mPlease review the code in the cell(s) to identify a possible cause of the failure. \n",
      "\u001b[1;31mClick <a href='https://aka.ms/vscodeJupyterKernelCrash'>here</a> for more info. \n",
      "\u001b[1;31mView Jupyter <a href='command:jupyter.viewOutput'>log</a> for further details."
     ]
    }
   ],
   "source": [
    "import tkinter as tk\n",
    "from tkinter import ttk\n",
    "\n",
    "# Create the app's main window\n",
    "window = tk.Tk()\n",
    "window.title(\"Hello, World!\")\n",
    "\n",
    "def handle_button_press():\n",
    "    window.destroy()\n",
    "\n",
    "button = ttk.Button(text=\"My simple app.\", command=handle_button_press)\n",
    "button.pack()\n",
    "\n",
    "# Start the event loop\n",
    "window.mainloop()"
   ]
  }
 ],
 "metadata": {
  "kernelspec": {
   "display_name": "base",
   "language": "python",
   "name": "python3"
  },
  "language_info": {
   "codemirror_mode": {
    "name": "ipython",
    "version": 3
   },
   "file_extension": ".py",
   "mimetype": "text/x-python",
   "name": "python",
   "nbconvert_exporter": "python",
   "pygments_lexer": "ipython3",
   "version": "3.12.2"
  }
 },
 "nbformat": 4,
 "nbformat_minor": 5
}
