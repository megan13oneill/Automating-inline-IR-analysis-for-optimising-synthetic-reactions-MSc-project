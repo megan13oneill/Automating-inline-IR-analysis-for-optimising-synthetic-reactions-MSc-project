{
 "cells": [
  {
   "cell_type": "markdown",
   "id": "4ea0ddfd",
   "metadata": {},
   "source": [
    "Connecting to the Mettler Toldeo OPC UA Server software to be able to get the data out. "
   ]
  },
  {
   "cell_type": "code",
   "execution_count": 1,
   "id": "5a8a1b86",
   "metadata": {},
   "outputs": [
    {
     "name": "stdout",
     "output_type": "stream",
     "text": [
      "Requirement already satisfied: opcua in /opt/anaconda3/lib/python3.12/site-packages (0.98.13)\n",
      "Requirement already satisfied: lxml in /opt/anaconda3/lib/python3.12/site-packages (from opcua) (5.2.1)\n",
      "Requirement already satisfied: python-dateutil in /opt/anaconda3/lib/python3.12/site-packages (from opcua) (2.9.0.post0)\n",
      "Requirement already satisfied: pytz in /opt/anaconda3/lib/python3.12/site-packages (from opcua) (2025.2)\n",
      "Requirement already satisfied: six>=1.5 in /opt/anaconda3/lib/python3.12/site-packages (from python-dateutil->opcua) (1.16.0)\n",
      "Note: you may need to restart the kernel to use updated packages.\n"
     ]
    }
   ],
   "source": [
    "pip install opcua"
   ]
  },
  {
   "cell_type": "markdown",
   "id": "dc7ac7d3",
   "metadata": {},
   "source": [
    "To check if connected"
   ]
  },
  {
   "cell_type": "code",
   "execution_count": 10,
   "id": "f0932f8d",
   "metadata": {},
   "outputs": [
    {
     "name": "stdout",
     "output_type": "stream",
     "text": [
      "❌ Connection failed: timed out\n"
     ]
    }
   ],
   "source": [
    "from opcua import Client\n",
    "\n",
    "SERVER_URL = \"opc.tcp://138.253.125.155:62551\"  # Replace with your actual IP\n",
    "\n",
    "try:\n",
    "    client = Client(SERVER_URL)\n",
    "    client.connect()\n",
    "    print(f\"✅ Connected to OPC UA server at {SERVER_URL}\")\n",
    "\n",
    "    # Test browsing root\n",
    "    root = client.get_root_node()\n",
    "    print(\"Root node:\", root)\n",
    "\n",
    "    objects = root.get_children()\n",
    "    print(\"Root children:\")\n",
    "    for obj in objects:\n",
    "        print(\" -\", obj, obj.get_browse_name())\n",
    "\n",
    "except Exception as e:\n",
    "    print(\"❌ Connection failed:\", e)\n",
    "\n",
    "finally:\n",
    "    try:\n",
    "        client.disconnect()\n",
    "    except:\n",
    "        pass\n"
   ]
  },
  {
   "cell_type": "code",
   "execution_count": 2,
   "id": "11c4432c",
   "metadata": {},
   "outputs": [
    {
     "ename": "AttributeError",
     "evalue": "'NoneType' object has no attribute 'socket'",
     "output_type": "error",
     "traceback": [
      "\u001b[0;31m---------------------------------------------------------------------------\u001b[0m",
      "\u001b[0;31mConnectionRefusedError\u001b[0m                    Traceback (most recent call last)",
      "Cell \u001b[0;32mIn[2], line 13\u001b[0m\n\u001b[1;32m     11\u001b[0m \u001b[38;5;28;01mtry\u001b[39;00m:\n\u001b[1;32m     12\u001b[0m     \u001b[38;5;66;03m# Connect to server\u001b[39;00m\n\u001b[0;32m---> 13\u001b[0m     client\u001b[38;5;241m.\u001b[39mconnect()\n\u001b[1;32m     14\u001b[0m     \u001b[38;5;28mprint\u001b[39m(\u001b[38;5;124mf\u001b[39m\u001b[38;5;124m\"\u001b[39m\u001b[38;5;124mConnected to OPC UA Server at \u001b[39m\u001b[38;5;132;01m{\u001b[39;00mserver_url\u001b[38;5;132;01m}\u001b[39;00m\u001b[38;5;124m\"\u001b[39m)\n",
      "File \u001b[0;32m/opt/anaconda3/lib/python3.12/site-packages/opcua/client/client.py:272\u001b[0m, in \u001b[0;36mClient.connect\u001b[0;34m(self)\u001b[0m\n\u001b[1;32m    268\u001b[0m \u001b[38;5;250m\u001b[39m\u001b[38;5;124;03m\"\"\"\u001b[39;00m\n\u001b[1;32m    269\u001b[0m \u001b[38;5;124;03mHigh level method\u001b[39;00m\n\u001b[1;32m    270\u001b[0m \u001b[38;5;124;03mConnect, create and activate session\u001b[39;00m\n\u001b[1;32m    271\u001b[0m \u001b[38;5;124;03m\"\"\"\u001b[39;00m\n\u001b[0;32m--> 272\u001b[0m \u001b[38;5;28mself\u001b[39m\u001b[38;5;241m.\u001b[39mconnect_socket()\n\u001b[1;32m    273\u001b[0m \u001b[38;5;28;01mtry\u001b[39;00m:\n",
      "File \u001b[0;32m/opt/anaconda3/lib/python3.12/site-packages/opcua/client/client.py:307\u001b[0m, in \u001b[0;36mClient.connect_socket\u001b[0;34m(self)\u001b[0m\n\u001b[1;32m    304\u001b[0m \u001b[38;5;250m\u001b[39m\u001b[38;5;124;03m\"\"\"\u001b[39;00m\n\u001b[1;32m    305\u001b[0m \u001b[38;5;124;03mconnect to socket defined in url\u001b[39;00m\n\u001b[1;32m    306\u001b[0m \u001b[38;5;124;03m\"\"\"\u001b[39;00m\n\u001b[0;32m--> 307\u001b[0m \u001b[38;5;28mself\u001b[39m\u001b[38;5;241m.\u001b[39muaclient\u001b[38;5;241m.\u001b[39mconnect_socket(\u001b[38;5;28mself\u001b[39m\u001b[38;5;241m.\u001b[39mserver_url\u001b[38;5;241m.\u001b[39mhostname, \u001b[38;5;28mself\u001b[39m\u001b[38;5;241m.\u001b[39mserver_url\u001b[38;5;241m.\u001b[39mport)\n",
      "File \u001b[0;32m/opt/anaconda3/lib/python3.12/site-packages/opcua/client/ua_client.py:266\u001b[0m, in \u001b[0;36mUaClient.connect_socket\u001b[0;34m(self, host, port)\u001b[0m\n\u001b[1;32m    265\u001b[0m \u001b[38;5;28mself\u001b[39m\u001b[38;5;241m.\u001b[39m_uasocket \u001b[38;5;241m=\u001b[39m UASocketClient(\u001b[38;5;28mself\u001b[39m\u001b[38;5;241m.\u001b[39m_timeout, security_policy\u001b[38;5;241m=\u001b[39m\u001b[38;5;28mself\u001b[39m\u001b[38;5;241m.\u001b[39msecurity_policy)\n\u001b[0;32m--> 266\u001b[0m \u001b[38;5;28;01mreturn\u001b[39;00m \u001b[38;5;28mself\u001b[39m\u001b[38;5;241m.\u001b[39m_uasocket\u001b[38;5;241m.\u001b[39mconnect_socket(host, port)\n",
      "File \u001b[0;32m/opt/anaconda3/lib/python3.12/site-packages/opcua/client/ua_client.py:155\u001b[0m, in \u001b[0;36mUASocketClient.connect_socket\u001b[0;34m(self, host, port)\u001b[0m\n\u001b[1;32m    154\u001b[0m \u001b[38;5;66;03m# Create socket with timeout for initial connection\u001b[39;00m\n\u001b[0;32m--> 155\u001b[0m sock \u001b[38;5;241m=\u001b[39m socket\u001b[38;5;241m.\u001b[39mcreate_connection((host, port), timeout\u001b[38;5;241m=\u001b[39m\u001b[38;5;28mself\u001b[39m\u001b[38;5;241m.\u001b[39mtimeout)\n\u001b[1;32m    156\u001b[0m \u001b[38;5;66;03m# set to blocking mode again\u001b[39;00m\n",
      "File \u001b[0;32m/opt/anaconda3/lib/python3.12/socket.py:852\u001b[0m, in \u001b[0;36mcreate_connection\u001b[0;34m(address, timeout, source_address, all_errors)\u001b[0m\n\u001b[1;32m    851\u001b[0m \u001b[38;5;28;01mif\u001b[39;00m \u001b[38;5;129;01mnot\u001b[39;00m all_errors:\n\u001b[0;32m--> 852\u001b[0m     \u001b[38;5;28;01mraise\u001b[39;00m exceptions[\u001b[38;5;241m0\u001b[39m]\n\u001b[1;32m    853\u001b[0m \u001b[38;5;28;01mraise\u001b[39;00m ExceptionGroup(\u001b[38;5;124m\"\u001b[39m\u001b[38;5;124mcreate_connection failed\u001b[39m\u001b[38;5;124m\"\u001b[39m, exceptions)\n",
      "File \u001b[0;32m/opt/anaconda3/lib/python3.12/socket.py:837\u001b[0m, in \u001b[0;36mcreate_connection\u001b[0;34m(address, timeout, source_address, all_errors)\u001b[0m\n\u001b[1;32m    836\u001b[0m     sock\u001b[38;5;241m.\u001b[39mbind(source_address)\n\u001b[0;32m--> 837\u001b[0m sock\u001b[38;5;241m.\u001b[39mconnect(sa)\n\u001b[1;32m    838\u001b[0m \u001b[38;5;66;03m# Break explicitly a reference cycle\u001b[39;00m\n",
      "\u001b[0;31mConnectionRefusedError\u001b[0m: [Errno 61] Connection refused",
      "\nDuring handling of the above exception, another exception occurred:\n",
      "\u001b[0;31mAttributeError\u001b[0m                            Traceback (most recent call last)",
      "File \u001b[0;32m/opt/anaconda3/lib/python3.12/site-packages/opcua/client/client.py:299\u001b[0m, in \u001b[0;36mClient.disconnect\u001b[0;34m(self)\u001b[0m\n\u001b[1;32m    298\u001b[0m     \u001b[38;5;28mself\u001b[39m\u001b[38;5;241m.\u001b[39mclose_session()\n\u001b[0;32m--> 299\u001b[0m     \u001b[38;5;28mself\u001b[39m\u001b[38;5;241m.\u001b[39mclose_secure_channel()\n\u001b[1;32m    300\u001b[0m \u001b[38;5;28;01mfinally\u001b[39;00m:\n",
      "File \u001b[0;32m/opt/anaconda3/lib/python3.12/site-packages/opcua/client/client.py:343\u001b[0m, in \u001b[0;36mClient.close_secure_channel\u001b[0;34m(self)\u001b[0m\n\u001b[1;32m    342\u001b[0m \u001b[38;5;28;01mdef\u001b[39;00m \u001b[38;5;21mclose_secure_channel\u001b[39m(\u001b[38;5;28mself\u001b[39m):\n\u001b[0;32m--> 343\u001b[0m     \u001b[38;5;28;01mreturn\u001b[39;00m \u001b[38;5;28mself\u001b[39m\u001b[38;5;241m.\u001b[39muaclient\u001b[38;5;241m.\u001b[39mclose_secure_channel()\n",
      "File \u001b[0;32m/opt/anaconda3/lib/python3.12/site-packages/opcua/client/ua_client.py:282\u001b[0m, in \u001b[0;36mUaClient.close_secure_channel\u001b[0;34m(self)\u001b[0m\n\u001b[1;32m    278\u001b[0m \u001b[38;5;250m\u001b[39m\u001b[38;5;124;03m\"\"\"\u001b[39;00m\n\u001b[1;32m    279\u001b[0m \u001b[38;5;124;03mclose secure channel. It seems to trigger a shutdown of socket\u001b[39;00m\n\u001b[1;32m    280\u001b[0m \u001b[38;5;124;03min most servers, so be prepare to reconnect\u001b[39;00m\n\u001b[1;32m    281\u001b[0m \u001b[38;5;124;03m\"\"\"\u001b[39;00m\n\u001b[0;32m--> 282\u001b[0m \u001b[38;5;28;01mreturn\u001b[39;00m \u001b[38;5;28mself\u001b[39m\u001b[38;5;241m.\u001b[39m_uasocket\u001b[38;5;241m.\u001b[39mclose_secure_channel()\n",
      "File \u001b[0;32m/opt/anaconda3/lib/python3.12/site-packages/opcua/client/ua_client.py:223\u001b[0m, in \u001b[0;36mUASocketClient.close_secure_channel\u001b[0;34m(self)\u001b[0m\n\u001b[1;32m    222\u001b[0m \u001b[38;5;28;01mtry\u001b[39;00m:\n\u001b[0;32m--> 223\u001b[0m     future \u001b[38;5;241m=\u001b[39m \u001b[38;5;28mself\u001b[39m\u001b[38;5;241m.\u001b[39m_send_request(request, message_type\u001b[38;5;241m=\u001b[39mua\u001b[38;5;241m.\u001b[39mMessageType\u001b[38;5;241m.\u001b[39mSecureClose)\n\u001b[1;32m    224\u001b[0m     \u001b[38;5;28;01mwith\u001b[39;00m \u001b[38;5;28mself\u001b[39m\u001b[38;5;241m.\u001b[39m_lock:\n\u001b[1;32m    225\u001b[0m         \u001b[38;5;66;03m# some servers send a response here, most do not ... so we ignore\u001b[39;00m\n",
      "File \u001b[0;32m/opt/anaconda3/lib/python3.12/site-packages/opcua/client/ua_client.py:72\u001b[0m, in \u001b[0;36mUASocketClient._send_request\u001b[0;34m(self, request, callback, timeout, message_type)\u001b[0m\n\u001b[1;32m     71\u001b[0m     msg \u001b[38;5;241m=\u001b[39m \u001b[38;5;28mself\u001b[39m\u001b[38;5;241m.\u001b[39m_connection\u001b[38;5;241m.\u001b[39mmessage_to_binary(binreq, message_type\u001b[38;5;241m=\u001b[39mmessage_type, request_id\u001b[38;5;241m=\u001b[39m\u001b[38;5;28mself\u001b[39m\u001b[38;5;241m.\u001b[39m_request_id)\n\u001b[0;32m---> 72\u001b[0m     \u001b[38;5;28mself\u001b[39m\u001b[38;5;241m.\u001b[39m_socket\u001b[38;5;241m.\u001b[39mwrite(msg)\n\u001b[1;32m     73\u001b[0m \u001b[38;5;28;01mreturn\u001b[39;00m future\n",
      "\u001b[0;31mAttributeError\u001b[0m: 'NoneType' object has no attribute 'write'",
      "\nDuring handling of the above exception, another exception occurred:\n",
      "\u001b[0;31mAttributeError\u001b[0m                            Traceback (most recent call last)",
      "Cell \u001b[0;32mIn[2], line 40\u001b[0m\n\u001b[1;32m     37\u001b[0m     time\u001b[38;5;241m.\u001b[39msleep(\u001b[38;5;241m2\u001b[39m)\n\u001b[1;32m     39\u001b[0m \u001b[38;5;28;01mfinally\u001b[39;00m:\n\u001b[0;32m---> 40\u001b[0m     client\u001b[38;5;241m.\u001b[39mdisconnect()\n\u001b[1;32m     41\u001b[0m     \u001b[38;5;28mprint\u001b[39m(\u001b[38;5;124m\"\u001b[39m\u001b[38;5;124mDisconnected from server.\u001b[39m\u001b[38;5;124m\"\u001b[39m)\n",
      "File \u001b[0;32m/opt/anaconda3/lib/python3.12/site-packages/opcua/client/client.py:301\u001b[0m, in \u001b[0;36mClient.disconnect\u001b[0;34m(self)\u001b[0m\n\u001b[1;32m    299\u001b[0m     \u001b[38;5;28mself\u001b[39m\u001b[38;5;241m.\u001b[39mclose_secure_channel()\n\u001b[1;32m    300\u001b[0m \u001b[38;5;28;01mfinally\u001b[39;00m:\n\u001b[0;32m--> 301\u001b[0m     \u001b[38;5;28mself\u001b[39m\u001b[38;5;241m.\u001b[39mdisconnect_socket()\n",
      "File \u001b[0;32m/opt/anaconda3/lib/python3.12/site-packages/opcua/client/client.py:310\u001b[0m, in \u001b[0;36mClient.disconnect_socket\u001b[0;34m(self)\u001b[0m\n\u001b[1;32m    309\u001b[0m \u001b[38;5;28;01mdef\u001b[39;00m \u001b[38;5;21mdisconnect_socket\u001b[39m(\u001b[38;5;28mself\u001b[39m):\n\u001b[0;32m--> 310\u001b[0m     \u001b[38;5;28mself\u001b[39m\u001b[38;5;241m.\u001b[39muaclient\u001b[38;5;241m.\u001b[39mdisconnect_socket()\n",
      "File \u001b[0;32m/opt/anaconda3/lib/python3.12/site-packages/opcua/client/ua_client.py:269\u001b[0m, in \u001b[0;36mUaClient.disconnect_socket\u001b[0;34m(self)\u001b[0m\n\u001b[1;32m    268\u001b[0m \u001b[38;5;28;01mdef\u001b[39;00m \u001b[38;5;21mdisconnect_socket\u001b[39m(\u001b[38;5;28mself\u001b[39m):\n\u001b[0;32m--> 269\u001b[0m     \u001b[38;5;28;01mreturn\u001b[39;00m \u001b[38;5;28mself\u001b[39m\u001b[38;5;241m.\u001b[39m_uasocket\u001b[38;5;241m.\u001b[39mdisconnect_socket()\n",
      "File \u001b[0;32m/opt/anaconda3/lib/python3.12/site-packages/opcua/client/ua_client.py:167\u001b[0m, in \u001b[0;36mUASocketClient.disconnect_socket\u001b[0;34m(self)\u001b[0m\n\u001b[1;32m    165\u001b[0m \u001b[38;5;28mself\u001b[39m\u001b[38;5;241m.\u001b[39m_do_stop \u001b[38;5;241m=\u001b[39m \u001b[38;5;28;01mTrue\u001b[39;00m\n\u001b[1;32m    166\u001b[0m \u001b[38;5;28;01mtry\u001b[39;00m:\n\u001b[0;32m--> 167\u001b[0m     \u001b[38;5;28mself\u001b[39m\u001b[38;5;241m.\u001b[39m_socket\u001b[38;5;241m.\u001b[39msocket\u001b[38;5;241m.\u001b[39mshutdown(socket\u001b[38;5;241m.\u001b[39mSHUT_RDWR)\n\u001b[1;32m    168\u001b[0m \u001b[38;5;28;01mexcept\u001b[39;00m (socket\u001b[38;5;241m.\u001b[39merror, \u001b[38;5;167;01mOSError\u001b[39;00m) \u001b[38;5;28;01mas\u001b[39;00m exc:\n\u001b[1;32m    169\u001b[0m     \u001b[38;5;28;01mif\u001b[39;00m exc\u001b[38;5;241m.\u001b[39merrno \u001b[38;5;129;01min\u001b[39;00m (errno\u001b[38;5;241m.\u001b[39mENOTCONN, errno\u001b[38;5;241m.\u001b[39mEBADF):\n",
      "\u001b[0;31mAttributeError\u001b[0m: 'NoneType' object has no attribute 'socket'"
     ]
    }
   ],
   "source": [
    "from opcua import Client\n",
    "import time\n",
    "\n",
    "# Replace this with the actual IP and port of your ReactIR OPC UA server\n",
    "# You might need to use `opc.tcp://<ip>:<port>` format\n",
    "server_url = \"http://localhost:62551/iCOpcUaServer\"\n",
    "\n",
    "# Create OPC UA client\n",
    "client = Client(server_url)\n",
    "\n",
    "try:\n",
    "    # Connect to server\n",
    "    client.connect()\n",
    "    print(f\"Connected to OPC UA Server at {server_url}\")\n",
    "\n",
    "    # Browse root node\n",
    "    root = client.get_root_node()\n",
    "    print(\"Root node is:\", root)\n",
    "\n",
    "    # Print children of root (to discover nodes, e.g. actual signal, temperature, etc.)\n",
    "    objects = root.get_children()\n",
    "    print(\"Children of root are:\")\n",
    "    for obj in objects:\n",
    "        print(\" -\", obj, obj.get_browse_name())\n",
    "\n",
    "    # OPTIONAL: Read a specific tag/value\n",
    "    # You'd replace this with your actual NodeId or path\n",
    "    # Example path could be: [\"0:Objects\", \"2:ReactIR\", \"2:FlowCell\", \"2:Temperature\"]\n",
    "    temperature_node = root.get_child([\"0:Objects\", \"2:ReactIR\", \"2:FlowCell\", \"2:Temperature\"])\n",
    "    temperature_value = temperature_node.get_value()\n",
    "    print(\"Current Flow Cell Temperature:\", temperature_value)\n",
    "\n",
    "    # OPTIONAL: Write a value (if node is writable)\n",
    "    # temperature_node.set_value(25.0)\n",
    "\n",
    "    # Keep connection open\n",
    "    time.sleep(2)\n",
    "\n",
    "finally:\n",
    "    client.disconnect()\n",
    "    print(\"Disconnected from server.\")\n"
   ]
  },
  {
   "cell_type": "code",
   "execution_count": null,
   "id": "82e72bf2",
   "metadata": {},
   "outputs": [],
   "source": []
  }
 ],
 "metadata": {
  "kernelspec": {
   "display_name": "base",
   "language": "python",
   "name": "python3"
  },
  "language_info": {
   "codemirror_mode": {
    "name": "ipython",
    "version": 3
   },
   "file_extension": ".py",
   "mimetype": "text/x-python",
   "name": "python",
   "nbconvert_exporter": "python",
   "pygments_lexer": "ipython3",
   "version": "3.12.2"
  }
 },
 "nbformat": 4,
 "nbformat_minor": 5
}
