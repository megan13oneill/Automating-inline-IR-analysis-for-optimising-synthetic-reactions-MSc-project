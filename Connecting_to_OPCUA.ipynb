{
 "cells": [
  {
   "cell_type": "markdown",
   "id": "4ea0ddfd",
   "metadata": {},
   "source": [
    "Connecting to the Mettler Toldeo OPC UA Server software to be able to get the data out. "
   ]
  },
  {
   "cell_type": "code",
   "execution_count": 1,
   "id": "5a8a1b86",
   "metadata": {},
   "outputs": [
    {
     "name": "stdout",
     "output_type": "stream",
     "text": [
      "Requirement already satisfied: opcua in /opt/anaconda3/lib/python3.12/site-packages (0.98.13)\n",
      "Requirement already satisfied: lxml in /opt/anaconda3/lib/python3.12/site-packages (from opcua) (5.2.1)\n",
      "Requirement already satisfied: python-dateutil in /opt/anaconda3/lib/python3.12/site-packages (from opcua) (2.9.0.post0)\n",
      "Requirement already satisfied: pytz in /opt/anaconda3/lib/python3.12/site-packages (from opcua) (2025.2)\n",
      "Requirement already satisfied: six>=1.5 in /opt/anaconda3/lib/python3.12/site-packages (from python-dateutil->opcua) (1.16.0)\n",
      "Note: you may need to restart the kernel to use updated packages.\n"
     ]
    }
   ],
   "source": [
    "pip install opcua"
   ]
  },
  {
   "cell_type": "markdown",
   "id": "dc7ac7d3",
   "metadata": {},
   "source": [
    "To check if connected"
   ]
  },
  {
   "cell_type": "code",
   "execution_count": 1,
   "id": "f0932f8d",
   "metadata": {},
   "outputs": [
    {
     "name": "stdout",
     "output_type": "stream",
     "text": [
      "❌ Connection failed: [Errno 61] Connection refused\n"
     ]
    }
   ],
   "source": [
    "from opcua import Client\n",
    "\n",
    "SERVER_URL = \"http://localhost:62551/iCOpcUaServer\"  # Replace with your actual IP\n",
    "\n",
    "try:\n",
    "    client = Client(SERVER_URL)\n",
    "    client.connect()\n",
    "    print(f\"✅ Connected to OPC UA server at {SERVER_URL}\")\n",
    "\n",
    "    # Test browsing root\n",
    "    root = client.get_root_node()\n",
    "    print(\"Root node:\", root)\n",
    "\n",
    "    objects = root.get_children()\n",
    "    print(\"Root children:\")\n",
    "    for obj in objects:\n",
    "        print(\" -\", obj, obj.get_browse_name())\n",
    "\n",
    "except Exception as e:\n",
    "    print(\"❌ Connection failed:\", e)\n",
    "\n",
    "finally:\n",
    "    try:\n",
    "        client.disconnect()\n",
    "    except:\n",
    "        pass\n"
   ]
  },
  {
   "cell_type": "code",
   "execution_count": null,
   "id": "11c4432c",
   "metadata": {},
   "outputs": [],
   "source": [
    "from opcua import Client\n",
    "import time\n",
    "\n",
    "# Replace this with the actual IP and port of your ReactIR OPC UA server\n",
    "# You might need to use `opc.tcp://<ip>:<port>` format\n",
    "server_url = \"http://localhost:62551/iCOpcUaServer\"\n",
    "\n",
    "# Create OPC UA client\n",
    "client = Client(server_url)\n",
    "\n",
    "try:\n",
    "    # Connect to server\n",
    "    client.connect()\n",
    "    print(f\"Connected to OPC UA Server at {server_url}\")\n",
    "\n",
    "    # Browse root node\n",
    "    root = client.get_root_node()\n",
    "    print(\"Root node is:\", root)\n",
    "\n",
    "    # Print children of root (to discover nodes, e.g. actual signal, temperature, etc.)\n",
    "    objects = root.get_children()\n",
    "    print(\"Children of root are:\")\n",
    "    for obj in objects:\n",
    "        print(\" -\", obj, obj.get_browse_name())\n",
    "\n",
    "    # OPTIONAL: Read a specific tag/value\n",
    "    # You'd replace this with your actual NodeId or path\n",
    "    # Example path could be: [\"0:Objects\", \"2:ReactIR\", \"2:FlowCell\", \"2:Temperature\"]\n",
    "    temperature_node = root.get_child([\"0:Objects\", \"2:ReactIR\", \"2:FlowCell\", \"2:Temperature\"])\n",
    "    temperature_value = temperature_node.get_value()\n",
    "    print(\"Current Flow Cell Temperature:\", temperature_value)\n",
    "\n",
    "    # OPTIONAL: Write a value (if node is writable)\n",
    "    # temperature_node.set_value(25.0)\n",
    "\n",
    "    # Keep connection open\n",
    "    time.sleep(2)\n",
    "\n",
    "finally:\n",
    "    client.disconnect()\n",
    "    print(\"Disconnected from server.\")\n"
   ]
  },
  {
   "cell_type": "code",
   "execution_count": null,
   "id": "82e72bf2",
   "metadata": {},
   "outputs": [],
   "source": []
  }
 ],
 "metadata": {
  "kernelspec": {
   "display_name": "base",
   "language": "python",
   "name": "python3"
  },
  "language_info": {
   "codemirror_mode": {
    "name": "ipython",
    "version": 3
   },
   "file_extension": ".py",
   "mimetype": "text/x-python",
   "name": "python",
   "nbconvert_exporter": "python",
   "pygments_lexer": "ipython3",
   "version": "3.12.2"
  }
 },
 "nbformat": 4,
 "nbformat_minor": 5
}
