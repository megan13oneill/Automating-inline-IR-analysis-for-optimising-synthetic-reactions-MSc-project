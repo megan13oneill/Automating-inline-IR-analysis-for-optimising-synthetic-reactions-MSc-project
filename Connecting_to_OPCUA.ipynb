{
 "cells": [
  {
   "cell_type": "markdown",
   "id": "4ea0ddfd",
   "metadata": {},
   "source": [
    "Connecting to the Mettler Toldeo OPC UA Server software to be able to get the data out. "
   ]
  },
  {
   "cell_type": "markdown",
   "id": "dc7ac7d3",
   "metadata": {},
   "source": [
    "To check if connected"
   ]
  },
  {
   "cell_type": "code",
   "execution_count": 2,
   "id": "f0932f8d",
   "metadata": {},
   "outputs": [
    {
     "name": "stdout",
     "output_type": "stream",
     "text": [
      "✅ Connected to OPC UA server at opc.tcp://localhost:62552/iCOpcUaServer\n",
      "Root node: i=84\n",
      "Root children:\n",
      " - i=85 QualifiedName(0:Objects)\n",
      " - i=86 QualifiedName(0:Types)\n",
      " - i=87 QualifiedName(0:Views)\n"
     ]
    }
   ],
   "source": [
    "from opcua import Client\n",
    "\n",
    "SERVER_URL = \"opc.tcp://localhost:62552/iCOpcUaServer\"  # Replace with your actual IP\n",
    "\n",
    "try:\n",
    "    client = Client(SERVER_URL)\n",
    "    client.connect()\n",
    "    print(f\"✅ Connected to OPC UA server at {SERVER_URL}\")\n",
    "\n",
    "    # Test browsing root\n",
    "    root = client.get_root_node()\n",
    "    print(\"Root node:\", root)\n",
    "\n",
    "    objects = root.get_children()\n",
    "    print(\"Root children:\")\n",
    "    for obj in objects:\n",
    "        print(\" -\", obj, obj.get_browse_name())\n",
    "\n",
    "except Exception as e:\n",
    "    print(\"❌ Connection failed:\", e)\n",
    "\n",
    "#finally:\n",
    "#    try:\n",
    "#        client.disconnect()\n",
    "#    except:\n",
    "#        pass\n"
   ]
  },
  {
   "cell_type": "code",
   "execution_count": 3,
   "id": "82e72bf2",
   "metadata": {},
   "outputs": [
    {
     "name": "stdout",
     "output_type": "stream",
     "text": [
      "i=2253 QualifiedName(0:Server)\n",
      "ns=2;s=iCache QualifiedName(0:BaseObjectType)\n",
      "ns=2;s=Local.iCIR QualifiedName(0:BaseObjectType)\n"
     ]
    }
   ],
   "source": [
    "# Get Objects node\n",
    "objects_node = root.get_child([\"0:Objects\"])\n",
    "\n",
    "# List what's inside\n",
    "for child in objects_node.get_children():\n",
    "    print(child, child.get_browse_name())\n"
   ]
  },
  {
   "cell_type": "code",
   "execution_count": null,
   "id": "5c068d85",
   "metadata": {},
   "outputs": [],
   "source": [
    "CREATE TABLE sensor_log (\n",
    "    id SERIAL PRIMARY KEY,\n",
    "    timestamp TIMESTAMPTZ NOT NULL,\n",
    "    node_name TEXT NOT NULL,\n",
    "    value DOUBLE PRECISION NOT NULL\n",
    ");\n"
   ]
  }
 ],
 "metadata": {
  "kernelspec": {
   "display_name": "Python 3",
   "language": "python",
   "name": "python3"
  },
  "language_info": {
   "codemirror_mode": {
    "name": "ipython",
    "version": 3
   },
   "file_extension": ".py",
   "mimetype": "text/x-python",
   "name": "python",
   "nbconvert_exporter": "python",
   "pygments_lexer": "ipython3",
   "version": "3.13.5"
  }
 },
 "nbformat": 4,
 "nbformat_minor": 5
}
