{
 "cells": [
  {
   "cell_type": "code",
   "execution_count": 1,
   "id": "85c46234",
   "metadata": {},
   "outputs": [
    {
     "name": "stdout",
     "output_type": "stream",
     "text": [
      "Connecting to OPC UA server at opc.tcp://localhost:62552/iCOpcUaServer...\n",
      "Connected.\n",
      "Found 7 children in Probe1.Trends:\n",
      " - Probe Temp\n",
      " - cage\n",
      " - Peak at 1155 cm-1\n",
      " - Peak at 1680 cm-1\n",
      " - Peak at 1088 cm-1\n",
      " - Peak at 1649 cm-1\n",
      " - THF Peak at 1264 cm-1\n",
      "Disconnected.\n"
     ]
    }
   ],
   "source": [
    "from opcua import Client\n",
    "import time\n",
    "\n",
    "def extract_trend_node_names(endpoint, probe_node_id=\"ns=2;s=Local.iCIR.Probe1.Trends\"):\n",
    "    \"\"\"\n",
    "    Connects to an OPC UA server and extracts the names of child nodes under the specified Probe1 Trends node.\n",
    "    \n",
    "    Args:\n",
    "        endpoint (str): OPC UA server endpoint (e.g., \"opc.tcp://localhost:62552/iCOpcUaServer\")\n",
    "        probe_node_id (str): NodeId of the Trends node for Probe1\n",
    "    \n",
    "    Returns:\n",
    "        List of trend node display names (str)\n",
    "    \"\"\"\n",
    "    client = Client(endpoint)\n",
    "    trend_names = []\n",
    "\n",
    "    try:\n",
    "        print(f\"Connecting to OPC UA server at {endpoint}...\")\n",
    "        client.connect()\n",
    "        print(\"Connected.\")\n",
    "\n",
    "        trend_node = client.get_node(probe_node_id)\n",
    "        children = trend_node.get_children()\n",
    "\n",
    "        print(f\"Found {len(children)} children in Probe1.Trends:\")\n",
    "        for child in children:\n",
    "            try:\n",
    "                name = child.get_display_name().Text\n",
    "                print(f\" - {name}\")\n",
    "                trend_names.append(name)\n",
    "            except Exception as e:\n",
    "                print(f\"Could not get name for node {child}: {e}\")\n",
    "\n",
    "    except Exception as e:\n",
    "        print(f\"Error: {e}\")\n",
    "    finally:\n",
    "        client.disconnect()\n",
    "        print(\"Disconnected.\")\n",
    "\n",
    "    return trend_names\n",
    "\n",
    "\n",
    "endpoint = \"opc.tcp://localhost:62552/iCOpcUaServer\"\n",
    "trend_names = extract_trend_node_names(endpoint)"
   ]
  },
  {
   "cell_type": "code",
   "execution_count": 1,
   "id": "aec4216a",
   "metadata": {},
   "outputs": [
    {
     "name": "stdout",
     "output_type": "stream",
     "text": [
      "Logs directory exists? True\n",
      "Is writable? True\n",
      "Logs directory is writable.\n"
     ]
    }
   ],
   "source": [
    "import os\n",
    "\n",
    "logs_dir = \"logs\"\n",
    "print(f\"Logs directory exists? {os.path.exists(logs_dir)}\")\n",
    "print(f\"Is writable? {os.access(logs_dir, os.W_OK)}\")\n",
    "\n",
    "if not os.path.exists(logs_dir):\n",
    "    print(\"Creating logs directory...\")\n",
    "    os.makedirs(logs_dir)\n",
    "\n",
    "if not os.access(logs_dir, os.W_OK):\n",
    "    print(\"Logs directory is not writable! Please fix permissions.\")\n",
    "else:\n",
    "    print(\"Logs directory is writable.\")\n"
   ]
  },
  {
   "cell_type": "code",
   "execution_count": 1,
   "id": "24d1bdc7",
   "metadata": {},
   "outputs": [
    {
     "name": "stdout",
     "output_type": "stream",
     "text": [
      "Database file exists? True\n",
      "Database file writable? True\n",
      "Tables in DB: [('Users',), ('Projects',), ('Experiments',), ('Documents',), ('Probes',), ('Samples',), ('Spectra',), ('Reagents',), ('Trends',), ('sqlite_sequence',), ('ProbeTempSamples',), ('PeakSamples',)]\n",
      "Table 'trends' does not exist in the database.\n"
     ]
    }
   ],
   "source": [
    "import os\n",
    "import sqlite3\n",
    "\n",
    "db_path = \"ReactIR.db\"\n",
    "\n",
    "print(f\"Database file exists? {os.path.exists(db_path)}\")\n",
    "print(f\"Database file writable? {os.access(db_path, os.W_OK)}\")\n",
    "\n",
    "conn = sqlite3.connect(db_path)\n",
    "cursor = conn.cursor()\n",
    "\n",
    "# List tables\n",
    "cursor.execute(\"SELECT name FROM sqlite_master WHERE type='table';\")\n",
    "tables = cursor.fetchall()\n",
    "print(\"Tables in DB:\", tables)\n",
    "\n",
    "# Replace 'TrendTableName' below with the actual table your create_new_trend() writes to:\n",
    "trend_table_name = \"trends\"  # Change as needed!\n",
    "\n",
    "if (trend_table_name,) in tables:\n",
    "    cursor.execute(f\"PRAGMA table_info({trend_table_name});\")\n",
    "    columns = cursor.fetchall()\n",
    "    print(f\"Columns in '{trend_table_name}' table:\", columns)\n",
    "else:\n",
    "    print(f\"Table '{trend_table_name}' does not exist in the database.\")\n",
    "\n",
    "conn.close()\n"
   ]
  },
  {
   "cell_type": "code",
   "execution_count": 2,
   "id": "6cfd556c",
   "metadata": {},
   "outputs": [
    {
     "name": "stdout",
     "output_type": "stream",
     "text": [
      "Error logger has not been configured with a path.\n",
      "✅ Database schema initialized or verified.\n"
     ]
    }
   ],
   "source": [
    "from db_utils import setup_database\n",
    "\n",
    "db_path = \"ReactIR.db\"\n",
    "setup_database(db_path)\n",
    "print(\"✅ Database schema initialized or verified.\")\n"
   ]
  }
 ],
 "metadata": {
  "kernelspec": {
   "display_name": "base",
   "language": "python",
   "name": "python3"
  },
  "language_info": {
   "codemirror_mode": {
    "name": "ipython",
    "version": 3
   },
   "file_extension": ".py",
   "mimetype": "text/x-python",
   "name": "python",
   "nbconvert_exporter": "python",
   "pygments_lexer": "ipython3",
   "version": "3.12.2"
  }
 },
 "nbformat": 4,
 "nbformat_minor": 5
}
