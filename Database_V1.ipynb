{
 "cells": [
  {
   "cell_type": "code",
   "execution_count": null,
   "id": "d9490e07",
   "metadata": {},
   "outputs": [],
   "source": [
    "CREATE TABLE users (\n",
    "    id SERIAL PRIMARY KEY, \n",
    "    Username TEXT NOT NULL UNIQUE \n",
    ");\n"
   ]
  },
  {
   "cell_type": "code",
   "execution_count": null,
   "id": "6e7c3439",
   "metadata": {},
   "outputs": [],
   "source": [
    "CREATE TABLE projects (\n",
    "    id SERIAL PRIMARY KEY,\n",
    "    Name TEXT NOT NULL,\n",
    "    user_id INTEGER REFERENCES users(id)\n",
    ");"
   ]
  },
  {
   "cell_type": "code",
   "execution_count": null,
   "id": "ae6cd99f",
   "metadata": {},
   "outputs": [],
   "source": [
    "CREATE TABLE experiments (\n",
    "    id SERIAL PRIMARY KEY,\n",
    "    Name TEXT NOT NULL,\n",
    "    project_id INTEGER REFERENCES projects(id)\n",
    ");"
   ]
  },
  {
   "cell_type": "code",
   "execution_count": null,
   "id": "73415a2b",
   "metadata": {},
   "outputs": [],
   "source": [
    "CREATE TABLE documents (\n",
    "    id SERIAL PRIMARY KEY,\n",
    "    Name TEXT NOT NULL,\n",
    "    experiment_id INTEGER REFERENCES experiments(id)\n",
    ");"
   ]
  },
  {
   "cell_type": "code",
   "execution_count": null,
   "id": "51672282",
   "metadata": {},
   "outputs": [],
   "source": [
    "CREATE TABLE probes (\n",
    "    id SERIAL PRIMARY KEY,\n",
    "    description TEXT NOT NULL,\n",
    "    document_id INTEGER REFERENCES documents(id)\n",
    ");"
   ]
  },
  {
   "cell_type": "code",
   "execution_count": null,
   "id": "6c38b37e",
   "metadata": {},
   "outputs": [],
   "source": [
    "CREATE TABLE samples (\n",
    "    id SERIAL PRIMARY KEY,\n",
    "    probe_id INTEGER REFERENCES probes(id)\n",
    "    sample_count INTEGER,\n",
    "    last_sample_time TIMESTAMPTZ,\n",
    "    current_sampling_interval INTEGER,\n",
    "    min_sampling_interval INTEGER,\n",
    "    max_sampling_interval INTEGER\n",
    ");"
   ]
  },
  {
   "cell_type": "code",
   "execution_count": null,
   "id": "dde53b9a",
   "metadata": {},
   "outputs": [],
   "source": [
    "CREATE TABLE spectra (\n",
    "    id SERIAL PRIMARY KEY,\n",
    "    sample_id INTEGER REFERENCES samples(id), \n",
    "    type TEXT CHECK (type IN ('raw', 'background', 'treated')),\n",
    "    file_path TEXT NOT NULL,\n",
    "    recorded_at TIMESTAMPTZ DEFAULT NOW()\n",
    ");"
   ]
  },
  {
   "cell_type": "code",
   "execution_count": null,
   "id": "cca29969",
   "metadata": {},
   "outputs": [],
   "source": []
  }
 ],
 "metadata": {
  "kernelspec": {
   "display_name": "base",
   "language": "python",
   "name": "python3"
  },
  "language_info": {
   "codemirror_mode": {
    "name": "ipython",
    "version": 3
   },
   "file_extension": ".py",
   "mimetype": "text/x-python",
   "name": "python",
   "nbconvert_exporter": "python",
   "pygments_lexer": "ipython3",
   "version": "3.12.2"
  }
 },
 "nbformat": 4,
 "nbformat_minor": 5
}
