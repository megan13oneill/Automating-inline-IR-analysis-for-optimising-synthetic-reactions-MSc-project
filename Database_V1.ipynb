{
 "cells": [
  {
   "cell_type": "code",
   "execution_count": null,
   "id": "d9490e07",
   "metadata": {},
   "outputs": [],
   "source": [
    "CREATE TABLE compounds (\n",
    "    id SERIAL PRIMARY KEY,\n",
    "    name TEXT NOT NULL,\n",
    "    inchi TEXT UNIQUE,\n",
    "    formula TEXT,\n",
    "    molecular_weight REAL,\n",
    "    date_added TIMESTAMP DEFAULT CURRENT_TIMESTAMP,\n",
    "    added_by TEXT\n",
    ");\n"
   ]
  },
  {
   "cell_type": "code",
   "execution_count": null,
   "id": "c0a8d089",
   "metadata": {},
   "outputs": [],
   "source": [
    "CREATE TABLE experiments (\n",
    "    id SERIAL PRIMARY KEY,\n",
    "    compound_id INTEGER REFERENCES compounds(id) ON DELETE CASCADE,\n",
    "    description TEXT,\n",
    "    date DATE,\n",
    "    performed_by TEXT\n",
    ");\n"
   ]
  },
  {
   "cell_type": "code",
   "execution_count": null,
   "id": "bc6ecb92",
   "metadata": {},
   "outputs": [],
   "source": [
    "CREATE TABLE analytical_data (\n",
    "    id SERIAL PRIMARY KEY,\n",
    "    experiment_id INTEGER REFERENCES experiments(id) ON DELETE CASCADE,\n",
    "    technique TEXT, -- e.g., NMR, MS, IR\n",
    "    file_path TEXT, -- or BLOB if storing data in the DB\n",
    "    notes TEXT\n",
    ");\n"
   ]
  }
 ],
 "metadata": {
  "kernelspec": {
   "display_name": "base",
   "language": "python",
   "name": "python3"
  },
  "language_info": {
   "codemirror_mode": {
    "name": "ipython",
    "version": 3
   },
   "file_extension": ".py",
   "mimetype": "text/x-python",
   "name": "python",
   "nbconvert_exporter": "python",
   "pygments_lexer": "ipython3",
   "version": "3.12.2"
  }
 },
 "nbformat": 4,
 "nbformat_minor": 5
}
