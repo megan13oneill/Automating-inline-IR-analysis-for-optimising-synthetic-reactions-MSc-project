{
 "cells": [
  {
   "cell_type": "code",
   "execution_count": null,
   "id": "d9490e07",
   "metadata": {},
   "outputs": [],
   "source": [
    "CREATE TABLE compounds (\n",
    "    id SERIAL PRIMARY KEY,\n",
    "    name TEXT NOT NULL,\n",
    "    inchi TEXT UNIQUE,\n",
    "    formula TEXT,\n",
    "    molecular_weight REAL,\n",
    "    date_added TIMESTAMP DEFAULT CURRENT_TIMESTAMP,\n",
    "    added_by TEXT\n",
    ");\n"
   ]
  },
  {
   "cell_type": "code",
   "execution_count": null,
   "id": "c0a8d089",
   "metadata": {},
   "outputs": [],
   "source": [
    "CREATE TABLE experiments (\n",
    "    id SERIAL PRIMARY KEY,\n",
    "    compound_id INTEGER REFERENCES compounds(id) ON DELETE CASCADE,\n",
    "    description TEXT,\n",
    "    date DATE,\n",
    "    performed_by TEXT\n",
    ");\n"
   ]
  },
  {
   "cell_type": "code",
   "execution_count": null,
   "id": "bc6ecb92",
   "metadata": {},
   "outputs": [],
   "source": [
    "CREATE TABLE analytical_data (\n",
    "    id SERIAL PRIMARY KEY,\n",
    "    experiment_id INTEGER REFERENCES experiments(id) ON DELETE CASCADE,\n",
    "    technique TEXT, -- e.g., NMR, MS, IR\n",
    "    file_path TEXT, -- or BLOB if storing data in the DB\n",
    "    notes TEXT\n",
    ");\n"
   ]
  }
 ],
 "metadata": {
  "language_info": {
   "name": "python"
  }
 },
 "nbformat": 4,
 "nbformat_minor": 5
}
