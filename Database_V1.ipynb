{
 "cells": [
  {
   "cell_type": "code",
   "execution_count": null,
   "id": "dbcdbb55",
   "metadata": {},
   "outputs": [],
   "source": [
    "pip install ipython-sql pymysql"
   ]
  },
  {
   "cell_type": "code",
   "execution_count": 4,
   "id": "c9eaa08a",
   "metadata": {},
   "outputs": [
    {
     "name": "stdout",
     "output_type": "stream",
     "text": [
      "The sql extension is already loaded. To reload it, use:\n",
      "  %reload_ext sql\n"
     ]
    }
   ],
   "source": [
    "# Load the SQL extension for Jupyter Notebook\n",
    "%load_ext sql\n",
    "\n",
    "# Connect to the SQLite database\n",
    "%sql sqlite:///ReactIR.db"
   ]
  },
  {
   "cell_type": "code",
   "execution_count": 5,
   "id": "d9490e07",
   "metadata": {},
   "outputs": [
    {
     "name": "stdout",
     "output_type": "stream",
     "text": [
      " * sqlite:///ReactIR.db\n",
      "   sqlite:///chemistry.db\n",
      "Done.\n",
      "Done.\n",
      "Done.\n",
      "Done.\n",
      "Done.\n",
      "Done.\n",
      "Done.\n"
     ]
    },
    {
     "data": {
      "text/plain": [
       "[]"
      ]
     },
     "execution_count": 5,
     "metadata": {},
     "output_type": "execute_result"
    }
   ],
   "source": [
    "%%sql\n",
    "\n",
    "-- Create Users table\n",
    "CREATE TABLE IF NOT EXISTS Users (\n",
    "    UserID INTEGER PRIMARY KEY,\n",
    "    Username TEXT NOT NULL UNIQUE\n",
    ");\n",
    "\n",
    "-- Create Projects table\n",
    "CREATE TABLE IF NOT EXISTS Projects (\n",
    "    ProjectID INTEGER PRIMARY KEY,\n",
    "    Name TEXT NOT NULL,\n",
    "    UserID INTEGER,\n",
    "    FOREIGN KEY (UserID) REFERENCES Users(UserID)\n",
    ");\n",
    "\n",
    "-- Create Experiments table\n",
    "CREATE TABLE IF NOT EXISTS Experiments (\n",
    "    ExperimentID INTEGER PRIMARY KEY,\n",
    "    Name TEXT NOT NULL,\n",
    "    ProjectID INTEGER,\n",
    "    FOREIGN KEY (ProjectID) REFERENCES Projects(ProjectID)\n",
    ");\n",
    "\n",
    "-- Create Documents table\n",
    "CREATE TABLE IF NOT EXISTS Documents (\n",
    "    DocumentID INTEGER PRIMARY KEY,\n",
    "    Name TEXT NOT NULL,\n",
    "    ExperimentID INTEGER,\n",
    "    FOREIGN KEY (ExperimentID) REFERENCES Experiments(ExperimentID)\n",
    ");\n",
    "\n",
    "-- Create Probes table\n",
    "CREATE TABLE IF NOT EXISTS Probes (\n",
    "    ProbeID INTEGER PRIMARY KEY,\n",
    "    Description TEXT NOT NULL,\n",
    "    DocumentID INTEGER,\n",
    "    LatestTemperatureCelsius REAL,\n",
    "    LatestTemperatureTime TEXT,\n",
    "    FOREIGN KEY (DocumentID) REFERENCES Documents(DocumentID)\n",
    ");\n",
    "\n",
    "-- Create Samples table\n",
    "CREATE TABLE IF NOT EXISTS Samples (\n",
    "    SampleID INTEGER PRIMARY KEY,\n",
    "    ProbeID INTEGER,\n",
    "    SampleCount INTEGER,\n",
    "    LastSampleTime TEXT,\n",
    "    CurrentSamplingInterval INTEGER,\n",
    "    MinSamplingInterval INTEGER,\n",
    "    MaxSamplingInterval INTEGER,\n",
    "    FOREIGN KEY (ProbeID) REFERENCES Probes(ProbeID)\n",
    ");\n",
    "\n",
    "-- Create Spectra table\n",
    "CREATE TABLE IF NOT EXISTS Spectra (\n",
    "    SpectraID INTEGER PRIMARY KEY,\n",
    "    SampleID INTEGER,\n",
    "    Type TEXT CHECK (Type IN ('raw', 'background')),\n",
    "    FilePath TEXT NOT NULL,\n",
    "    RecordedAt TEXT,\n",
    "    FOREIGN KEY (SampleID) REFERENCES Samples(SampleID)\n",
    ");\n"
   ]
  }
 ],
 "metadata": {
  "kernelspec": {
   "display_name": "base",
   "language": "python",
   "name": "python3"
  },
  "language_info": {
   "codemirror_mode": {
    "name": "ipython",
    "version": 3
   },
   "file_extension": ".py",
   "mimetype": "text/x-python",
   "name": "python",
   "nbconvert_exporter": "python",
   "pygments_lexer": "ipython3",
   "version": "3.12.2"
  }
 },
 "nbformat": 4,
 "nbformat_minor": 5
}
